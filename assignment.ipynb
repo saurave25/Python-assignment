{
 "cells": [
  {
   "cell_type": "code",
   "execution_count": 1,
   "metadata": {},
   "outputs": [
    {
     "name": "stdout",
     "output_type": "stream",
     "text": [
      "the sum is13.0 and the avg is 4.333333333333333\n"
     ]
    }
   ],
   "source": [
    "#1. Write a program in Python to find the addition & average of three float numbers.\n",
    "a=(float(input(\"enter the first number :\")))\n",
    "b=(float(input(\"enter the seccond number :\")))\n",
    "c=(float(input(\"enter the third number :\")))\n",
    "sum=(a+b+c)\n",
    "avg=sum/3\n",
    "print(f\"the sum is :{sum} and the avg is :{avg}\")"
   ]
  },
  {
   "cell_type": "code",
   "execution_count": null,
   "metadata": {},
   "outputs": [],
   "source": [
    "#2. Write a program in Python to find the volume of a sphere with radius  6cm.\n",
    "import math\n",
    "radius=int(input(\"enter the radius:\"))\n",
    "print(\"the volume of the sphere is :\",(4/3)*math.pi*pow(radius,3))\n"
   ]
  },
  {
   "cell_type": "code",
   "execution_count": 4,
   "metadata": {},
   "outputs": [
    {
     "name": "stdout",
     "output_type": "stream",
     "text": [
      "the area of the circle is : 50.26548245743669\n"
     ]
    }
   ],
   "source": [
    "# 3. Write a program in Python to find the area of a circle.\n",
    "import math\n",
    "radius=int(input(\"enter the radius:\"))\n",
    "print(\"the area of the circle is :\",math.pi*pow(radius,2))\n",
    "\n"
   ]
  },
  {
   "cell_type": "code",
   "execution_count": 6,
   "metadata": {},
   "outputs": [
    {
     "name": "stdout",
     "output_type": "stream",
     "text": [
      "the simple interrest is : 1750.0\n"
     ]
    }
   ],
   "source": [
    "#4. Write a program in Python to compute simple Interest.\n",
    "principle=int(input(\"enter the principle rate :\"))\n",
    "time=int(input(\"enter the time :\"))\n",
    "rate=float(input(\"enter the  rate :\"))\n",
    "si=(principle*time*rate)/100\n",
    "print(\"the simple interrest is :\",si)\n",
    "\n"
   ]
  },
  {
   "cell_type": "code",
   "execution_count": 7,
   "metadata": {},
   "outputs": [
    {
     "name": "stdout",
     "output_type": "stream",
     "text": [
      "a:5 b:10\n"
     ]
    }
   ],
   "source": [
    "#5. Write a program in Python to swap two numbers without using third variable\n",
    "a=(int(input(\"enter the first number :\")))\n",
    "b=(int(input(\"enter the seccond number :\")))\n",
    "a=a+b\n",
    "b=a-b\n",
    "a=a-b\n",
    "print(f\"a:{a} b:{b}\")\n",
    "\n"
   ]
  },
  {
   "cell_type": "code",
   "execution_count": 8,
   "metadata": {},
   "outputs": [
    {
     "name": "stdout",
     "output_type": "stream",
     "text": [
      "the ferhenhite temp is: 212.0\n"
     ]
    }
   ],
   "source": [
    "#6. Write a program in Python to convert any temperature from Celcius to Fahrenheit. \n",
    "celcius=int(input(\"enter the celcius:\"))\n",
    "farhenhite=celcius*(9/5)+32\n",
    "print(\"the ferhenhite temp is:\",farhenhite)"
   ]
  },
  {
   "cell_type": "code",
   "execution_count": 10,
   "metadata": {},
   "outputs": [
    {
     "name": "stdout",
     "output_type": "stream",
     "text": [
      "the year: 1 month:9 week:40 days:5\n"
     ]
    }
   ],
   "source": [
    "#7. Write a program in Python to convert a given number of days into days, month, year and week.\n",
    "no_days=int(input(\"enter the no. of days:\"))\n",
    "year=int(no_days/365)\n",
    "month=int((no_days-year*365)/30)\n",
    "week=int((no_days%365)/7)\n",
    "days=int((no_days%365)%7)\n",
    "print(f\"the year: {year} month:{month} week:{week} days:{days}\")"
   ]
  },
  {
   "cell_type": "code",
   "execution_count": 12,
   "metadata": {},
   "outputs": [
    {
     "name": "stdout",
     "output_type": "stream",
     "text": [
      "Hence, the gravitational force is:  1.186311111111111e-10 N\n"
     ]
    }
   ],
   "source": [
    "#8. Write a Python Program to find the gravitational force acting between two objects.days\n",
    "# [G=N*(m1*m2)/d^2]\n",
    "m1=float(input(\"Enter the first mass: \"))\n",
    "m2=float(input(\"Enter the second mass: \"))\n",
    "r=float(input(\"Enter the distance between the centres of the masses: \"))\n",
    "G=6.673*(10**-11)\n",
    "f=(G*m1*m2)/(r**2)\n",
    "print(\"Hence, the gravitational force is: \",f,\"N\")\n"
   ]
  },
  {
   "cell_type": "code",
   "execution_count": 14,
   "metadata": {},
   "outputs": [
    {
     "name": "stdout",
     "output_type": "stream",
     "text": [
      "the number is odd\n"
     ]
    }
   ],
   "source": [
    "#9. Write a program in Python to find given no is Even or Odd.\n",
    "a=int(input(\"enter the number:\"))\n",
    "if a%2==0:\n",
    "    print(\"the number is even \")\n",
    "else:\n",
    "    print(\"the number is odd\")    "
   ]
  },
  {
   "cell_type": "code",
   "execution_count": 16,
   "metadata": {},
   "outputs": [
    {
     "name": "stdout",
     "output_type": "stream",
     "text": [
      "the largest number is: 10\n"
     ]
    }
   ],
   "source": [
    "#11. Write a program in Python to find largest among three numbers.\n",
    "\n",
    "\n",
    "a=(int(input(\"enter the first number :\")))\n",
    "b=(int(input(\"enter the seccond number :\")))\n",
    "c=(int(input(\"enter the third number :\")))\n",
    "print(\"the largest number is:\",max(a,b,c))\n"
   ]
  },
  {
   "cell_type": "code",
   "execution_count": 17,
   "metadata": {},
   "outputs": [
    {
     "name": "stdout",
     "output_type": "stream",
     "text": [
      "Equilateral Triangle\n"
     ]
    }
   ],
   "source": [
    "#12. Write a program in Python to check a triangle is equilateral,scalene or isosclees..\n",
    "\n",
    "x=(int(input(\"enter the first number :\")))\n",
    "y=(int(input(\"enter the seccond number :\")))\n",
    "z=(int(input(\"enter the third number :\")))\n",
    "\n",
    "\n",
    "if x == y == z:\n",
    "        print(\"Equilateral Triangle\")\n",
    " \n",
    "elif x == y or y == z or z == x:\n",
    "        print(\"Isosceles Triangle\")\n",
    "else:\n",
    "        print(\"Scalene Triangle\")"
   ]
  },
  {
   "cell_type": "code",
   "execution_count": 18,
   "metadata": {},
   "outputs": [
    {
     "name": "stdout",
     "output_type": "stream",
     "text": [
      "2000 is a leap year.\n"
     ]
    }
   ],
   "source": [
    "#13. Write a program in Python to check a given year is leapyear or not.\n",
    "\n",
    "year=int(input(\"enter the year:\"))\n",
    "if year % 4 == 0:\n",
    "    if year % 100 == 0:\n",
    "        if year % 400 == 0:\n",
    "            print(f\"{year} is a leap year.\")\n",
    "        else:\n",
    "            print(f\"{year} is not a leap year.\")\n",
    "    else:\n",
    "        print(f\"{year} is a leap year.\")\n",
    "else:\n",
    "    print(f\"{year} is not a leap year.\")"
   ]
  },
  {
   "cell_type": "code",
   "execution_count": 21,
   "metadata": {},
   "outputs": [
    {
     "name": "stdout",
     "output_type": "stream",
     "text": [
      "mul: 125\n"
     ]
    }
   ],
   "source": [
    "#15. Write a program in Python to implement a simple calculator\n",
    "\n",
    "num1=int(input(\"enter the first  numeber:\"))\n",
    "num2=int(input(\"enter the second number:\"))\n",
    "c=input(\"enter the operation:\")\n",
    "if c == \"+\":\n",
    "    print(\"add :\",(num1+num2))\n",
    "elif c==\"-\" :\n",
    "    print(\"sub:\",(num1-num2))\n",
    "elif c==\"*\":\n",
    "    print(\"mul:\",(num1*num2))\n",
    "elif c==\"/\":\n",
    "    print(\"div:\",(num1/num2))        \n",
    "   \n",
    "    "
   ]
  },
  {
   "cell_type": "code",
   "execution_count": 1,
   "metadata": {},
   "outputs": [
    {
     "name": "stdout",
     "output_type": "stream",
     "text": [
      "Equation: ax^2 + bx + c \n",
      "The roots are imaginary. \n"
     ]
    }
   ],
   "source": [
    "#16. Write a program in Python to find the roots of Quadratic equation.\n",
    "print(\"Equation: ax^2 + bx + c \")\n",
    "a=int(input(\"Enter a: \"))\n",
    "b=int(input(\"Enter b: \"))\n",
    "c=int(input(\"Enter c: \"))\n",
    "d=b**2-4*a*c\n",
    "d1=d**0.5\n",
    "if(d<0):\n",
    "    print(\"The roots are imaginary. \")\n",
    "else:\n",
    "    r1=(-b+d1)/2*a\n",
    "    r2=(-b-d1)/2*a\n",
    "    print(\"The first root: \",round(r1,2))\n",
    "    print(\"The second root: \",round(r2,2))"
   ]
  },
  {
   "cell_type": "code",
   "execution_count": 4,
   "metadata": {},
   "outputs": [
    {
     "name": "stdout",
     "output_type": "stream",
     "text": [
      "1\n",
      "2\n",
      "3\n",
      "4\n",
      "5\n"
     ]
    }
   ],
   "source": [
    "#17. Write a program in Python to print 1 to n.\n",
    "n=int(input(\"enter the number to print:\"))\n",
    "for i in range(1,n+1):\n",
    "    print(i)"
   ]
  },
  {
   "cell_type": "code",
   "execution_count": 5,
   "metadata": {},
   "outputs": [
    {
     "name": "stdout",
     "output_type": "stream",
     "text": [
      "25\n"
     ]
    }
   ],
   "source": [
    "#18. Write a program in Python to print sum of natural number.\n",
    "n=int(input(\"enter the number to print:\"))\n",
    "sum=0\n",
    "for i in range(1,n+1):\n",
    "    sum=sum+n\n",
    "print(sum)    "
   ]
  },
  {
   "cell_type": "code",
   "execution_count": 9,
   "metadata": {},
   "outputs": [
    {
     "name": "stdout",
     "output_type": "stream",
     "text": [
      "6\n"
     ]
    }
   ],
   "source": [
    "#19. Write a program in Python to print Sum of Digit.\n",
    "num=input(\"enter the number to print:\")\n",
    "sum=0\n",
    "for i in num:\n",
    "    sum=sum+int(i)\n",
    "print(sum)    "
   ]
  },
  {
   "cell_type": "code",
   "execution_count": 10,
   "metadata": {},
   "outputs": [
    {
     "name": "stdout",
     "output_type": "stream",
     "text": [
      "1\n",
      "2\n",
      "5\n",
      "10\n",
      "25\n",
      "50\n"
     ]
    }
   ],
   "source": [
    "#20. Write a program in Python to print Factors of a Number.\n",
    "x=int(input(\"enter the number to print:\"))\n",
    "for i in range(1, x + 1):\n",
    "       if x % i == 0:\n",
    "           print(i)"
   ]
  },
  {
   "cell_type": "code",
   "execution_count": 15,
   "metadata": {},
   "outputs": [
    {
     "name": "stdout",
     "output_type": "stream",
     "text": [
      "Reversed Number: 4321\n"
     ]
    }
   ],
   "source": [
    "#21. Write a program in Python to print Reverse of a Number.\n",
    "\n",
    "num =int(input(\"enter the number to print:\"))\n",
    "reversed_num = 0\n",
    "\n",
    "while num != 0:\n",
    "    digit = num % 10\n",
    "    reversed_num = reversed_num * 10 + digit\n",
    "    num //= 10\n",
    "\n",
    "print(\"Reversed Number: \" + str(reversed_num))"
   ]
  },
  {
   "cell_type": "code",
   "execution_count": 19,
   "metadata": {},
   "outputs": [
    {
     "name": "stdout",
     "output_type": "stream",
     "text": [
      "120\n"
     ]
    }
   ],
   "source": [
    "#22. Write a Python program to find Factorial of a given number.\n",
    "import math\n",
    "num =int(input(\"enter the number to print:\"))\n",
    "print(math.factorial(num))\n"
   ]
  },
  {
   "cell_type": "code",
   "execution_count": 20,
   "metadata": {},
   "outputs": [
    {
     "name": "stdout",
     "output_type": "stream",
     "text": [
      "The number is a palindrome!\n"
     ]
    }
   ],
   "source": [
    "#23. Write a Python program to check a number is palindrome or not.\n",
    "n=int(input(\"Enter number:\"))\n",
    "temp=n\n",
    "rev=0\n",
    "while(n>0):\n",
    "    dig=n%10\n",
    "    rev=rev*10+dig\n",
    "    n=n//10\n",
    "if(temp==rev):\n",
    "    print(\"The number is a palindrome!\")\n",
    "else:\n",
    "    print(\"The number isn't a palindrome!\")"
   ]
  },
  {
   "cell_type": "code",
   "execution_count": 21,
   "metadata": {},
   "outputs": [
    {
     "name": "stdout",
     "output_type": "stream",
     "text": [
      "5*1:5\n",
      "5*2:10\n",
      "5*3:15\n",
      "5*4:20\n",
      "5*5:25\n",
      "5*6:30\n",
      "5*7:35\n",
      "5*8:40\n",
      "5*9:45\n",
      "5*10:50\n"
     ]
    }
   ],
   "source": [
    "#27. Write a Python program to implement multiplication table.\n",
    "n=int(input(\"Enter number:\"))\n",
    "for i in range(1,11):\n",
    "    print(f\"{n}*{i}:{n*i}\")\n"
   ]
  },
  {
   "cell_type": "code",
   "execution_count": 22,
   "metadata": {},
   "outputs": [
    {
     "name": "stdout",
     "output_type": "stream",
     "text": [
      "[1, 2, 3, 4, 5]\n"
     ]
    }
   ],
   "source": [
    "#28. Write a Python program to take a input from user in a list and print it.\n",
    "lst = []\n",
    " \n",
    "n = int(input(\"Enter number of elements : \"))\n",
    " \n",
    "\n",
    "for i in range(0, n):\n",
    "    ele = int(input())\n",
    "  \n",
    "    lst.append(ele)  \n",
    " \n",
    "print(lst)"
   ]
  },
  {
   "cell_type": "code",
   "execution_count": 32,
   "metadata": {},
   "outputs": [
    {
     "ename": "TypeError",
     "evalue": "int() argument must be a string, a bytes-like object or a real number, not 'list'",
     "output_type": "error",
     "traceback": [
      "\u001b[1;31m---------------------------------------------------------------------------\u001b[0m",
      "\u001b[1;31mTypeError\u001b[0m                                 Traceback (most recent call last)",
      "Cell \u001b[1;32mIn[32], line 3\u001b[0m\n\u001b[0;32m      1\u001b[0m \u001b[38;5;66;03m#29. Write a Python program to find the average of n numbers using list.\u001b[39;00m\n\u001b[1;32m----> 3\u001b[0m L \u001b[38;5;241m=\u001b[39m\u001b[38;5;28;43mint\u001b[39;49m\u001b[43m(\u001b[49m\u001b[43m \u001b[49m\u001b[43m[\u001b[49m\u001b[38;5;241;43m4\u001b[39;49m\u001b[43m,\u001b[49m\u001b[43m \u001b[49m\u001b[38;5;241;43m5\u001b[39;49m\u001b[43m,\u001b[49m\u001b[43m \u001b[49m\u001b[38;5;241;43m1\u001b[39;49m\u001b[43m,\u001b[49m\u001b[43m \u001b[49m\u001b[38;5;241;43m2\u001b[39;49m\u001b[43m,\u001b[49m\u001b[43m \u001b[49m\u001b[38;5;241;43m9\u001b[39;49m\u001b[43m,\u001b[49m\u001b[43m \u001b[49m\u001b[38;5;241;43m7\u001b[39;49m\u001b[43m,\u001b[49m\u001b[43m \u001b[49m\u001b[38;5;241;43m10\u001b[39;49m\u001b[43m,\u001b[49m\u001b[43m \u001b[49m\u001b[38;5;241;43m8\u001b[39;49m\u001b[43m]\u001b[49m\u001b[43m)\u001b[49m\n\u001b[0;32m      4\u001b[0m count \u001b[38;5;241m=\u001b[39m \u001b[38;5;28msum\u001b[39m(L)\n\u001b[0;32m      5\u001b[0m avg \u001b[38;5;241m=\u001b[39m count\u001b[38;5;241m/\u001b[39m\u001b[38;5;28mlen\u001b[39m(L)\n",
      "\u001b[1;31mTypeError\u001b[0m: int() argument must be a string, a bytes-like object or a real number, not 'list'"
     ]
    }
   ],
   "source": [
    "#29. Write a Python program to find the average of n numbers using list.\n",
    "\n",
    "L = [4, 5, 1, 2, 9, 7, 10, 8]\n",
    "count = sum(L)\n",
    "avg = count/len(L)\n",
    " \n",
    "\n",
    "print(\"average = \", avg)\n",
    "\n"
   ]
  },
  {
   "cell_type": "code",
   "execution_count": 33,
   "metadata": {},
   "outputs": [
    {
     "name": "stdout",
     "output_type": "stream",
     "text": [
      "10\n"
     ]
    }
   ],
   "source": [
    "#30. Write a Python program to find the largest element in the list.\n",
    "L = [4, 5, 1, 2, 9, 7, 10, 8]\n",
    "print(max(L))"
   ]
  },
  {
   "cell_type": "code",
   "execution_count": null,
   "metadata": {},
   "outputs": [],
   "source": []
  }
 ],
 "metadata": {
  "kernelspec": {
   "display_name": "Python 3",
   "language": "python",
   "name": "python3"
  },
  "language_info": {
   "codemirror_mode": {
    "name": "ipython",
    "version": 3
   },
   "file_extension": ".py",
   "mimetype": "text/x-python",
   "name": "python",
   "nbconvert_exporter": "python",
   "pygments_lexer": "ipython3",
   "version": "3.12.0"
  }
 },
 "nbformat": 4,
 "nbformat_minor": 2
}
